{
 "cells": [
  {
   "cell_type": "code",
   "execution_count": null,
   "metadata": {},
   "outputs": [],
   "source": [
    "#Import statement to use pandas library and associated function\n",
    "#Filepath to read csv file of focus\n",
    "import configparser\n",
    "import pandas as pd\n",
    "import matplotlib.pyplot as plt\n",
    "from numpy import average\n",
    "# file_import = input('Input CSV File. E.g. Meter Data.csv')\n",
    "# if file_import:\n",
    "#     filepath = file_import\n",
    "# else:\n",
    "filepath = 'Excel SNGPL data.csv'\n",
    "filepather = 'SNGPL Excel Dual Data.csv'\n",
    "data_path = 'Dual Sensor Absolute.csv'\n",
    "doc = pd.read_csv(filepath)\n",
    "config = configparser.ConfigParser()\n",
    "config.read('configfile.ini')\n",
    "worker = pd.DataFrame({'DateTime':['ZERO PRESS SCRUTINY'], 'Pressure p1':['ZERO PRESS SCRUTINY'], 'Battery voltage':['ZERO PRESS SCRUTINY'], 'Battery capacity':['ZERO PRESS SCRUTINY'], 'Abs. pressure p_abs':['ZERO PRESS SCRUTINY'], 'Internal temp.':['ZERO PRESS SCRUTINY'], 'Spare temp. t_sp':['ZERO PRESS SCRUTINY'], 'p1min':['ZERO PRESS SCRUTINY'],\n",
    " 'T_p1min':['ZERO PRESS SCRUTINY'], 'p1max':['ZERO PRESS SCRUTINY'], 'T_p1max':['ZERO PRESS SCRUTINY'], 'Primary volume V1':['ZERO PRESS SCRUTINY'], 'D_Primary volume V1':['ZERO PRESS SCRUTINY'], 'Spare prim. vol. Vs1':['ZERO PRESS SCRUTINY'], 'D_Spare prim. vol. Vs1':['ZERO PRESS SCRUTINY'], \n",
    " 'Base volume Vb1':['ZERO PRESS SCRUTINY'], 'D_Base volume Vb1':['ZERO PRESS SCRUTINY'], 'Spare base vol. Vbs1':['ZERO PRESS SCRUTINY'], 'D_Spare base vol. Vbs1':['ZERO PRESS SCRUTINY'], 'Flow Q1':['ZERO PRESS SCRUTINY'], 'Q1max':['ZERO PRESS SCRUTINY'], 'T_Q1max':['ZERO PRESS SCRUTINY'], 'Base flow Qb1':['ZERO PRESS SCRUTINY'], \n",
    " 'Convers. factor C1':['ZERO PRESS SCRUTINY'], 'Comp. ratio Z/Zb K1':['ZERO PRESS SCRUTINY'], 'Status':['ZERO PRESS SCRUTINY'], 'Tamper':['ZERO PRESS SCRUTINY'], 'Battery state':['ZERO PRESS SCRUTINY'], 'p1_min':['ZERO PRESS SCRUTINY'], 'p1_max':['ZERO PRESS SCRUTINY'], 't1_min':['ZERO PRESS SCRUTINY'], 't1_max':['ZERO PRESS SCRUTINY'], 'Q1_min':['ZERO PRESS SCRUTINY'], 'Q1_max':['ZERO PRESS SCRUTINY']})\n",
    "\n",
    "docs = pd.read_csv(filepath, header = 0, infer_datetime_format = True)\n",
    "pd.options.display.max_columns = 100\n",
    "doc['DateTime'] = pd.to_datetime(doc['DateTime'], infer_datetime_format=True)\n",
    "# The above reads in the csv file, changes VS code settings to preview 100 columns at a time, and converts the column 'DateTime' from a string datatype to pd.to_datetime datatype\n",
    "# The below is the start of the functions. All functions can take an argument when calling to avoid input statements, E.g. zero_p1(15).\n",
    "# All functions return a slice of the original dataframe according to the scrutiny conditions. All inputs are converted to floats before comparison or condition checking.\n",
    "# All functions have a default value so if no arguments/inputs are specified, then the result will take hold with a default value.\n",
    "# Each scrutiny point saves itself as a CSV in the same folder for further detail.\n",
    "\n",
    "datatypes = {1: 'Elgas Abs Single', 2: 'Elgas Abs Dual', 3: 'Elgas Gauge', 4: 'RFLO Abs Single'}\n",
    "datatype_input = input('Please input the type of data file you are inputting. Enter {key_1} for {value_1}, {key_2} for {value_2}, {key_3} for {value_3}, or {key_4} for {value_4}.'.format(key_1 = list(datatypes.keys())[0], value_1 = datatypes[1], \n",
    "key_2 = list(datatypes.keys())[1], value_2 = datatypes[2], key_3 = list(datatypes.keys())[2], value_3 = datatypes[3], key_4 = list(datatypes.keys())[3], value_4 = datatypes[4]))\n",
    "print(datatypes[int(datatype_input)])"
   ]
  }
 ],
 "metadata": {
  "kernelspec": {
   "display_name": "Python 3.10.4 64-bit",
   "language": "python",
   "name": "python3"
  },
  "language_info": {
   "name": "python",
   "version": "3.10.4"
  },
  "orig_nbformat": 4,
  "vscode": {
   "interpreter": {
    "hash": "aee8b7b246df8f9039afb4144a1f6fd8d2ca17a180786b69acc140d282b71a49"
   }
  }
 },
 "nbformat": 4,
 "nbformat_minor": 2
}
